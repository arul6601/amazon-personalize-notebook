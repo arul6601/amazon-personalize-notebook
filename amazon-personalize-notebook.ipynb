{
 "cells": [
  {
   "cell_type": "markdown",
   "metadata": {},
   "source": [
    "# Amazon Personalize Workshop"
   ]
  },
  {
   "cell_type": "markdown",
   "metadata": {},
   "source": [
    "Overview on how to run this workshop\n",
    "\n",
    "1. Create a schema describing the dataset, using Personalize-reserved keywords for user ids, item ids, etc.\n",
    "2. Create a dataset group that contains datasets used for building the model and for predicting: user-item interactions (aka “who liked what”), users and items. The last two are optional, as we will see in the example below.\n",
    "3. Send data to Personalize.\n",
    "4. Create a solution, i.e. select a recommendation recipe and train it on the dataset group.\n",
    "5. Create a campaign to predict new samples."
   ]
  },
  {
   "cell_type": "code",
   "execution_count": 1,
   "metadata": {},
   "outputs": [
    {
     "name": "stdout",
     "output_type": "stream",
     "text": [
      "Requirement already up-to-date: awscli in /home/ec2-user/anaconda3/envs/python3/lib/python3.6/site-packages (1.16.125)\n",
      "Requirement already up-to-date: botocore in /home/ec2-user/anaconda3/envs/python3/lib/python3.6/site-packages (1.12.115)\n",
      "Requirement already up-to-date: boto3 in /home/ec2-user/anaconda3/envs/python3/lib/python3.6/site-packages (1.9.115)\n",
      "Requirement not upgraded as not directly required: PyYAML<=3.13,>=3.10 in /home/ec2-user/anaconda3/envs/python3/lib/python3.6/site-packages (from awscli) (3.12)\n",
      "Requirement not upgraded as not directly required: rsa<=3.5.0,>=3.1.2 in /home/ec2-user/anaconda3/envs/python3/lib/python3.6/site-packages (from awscli) (3.4.2)\n",
      "Requirement not upgraded as not directly required: docutils>=0.10 in /home/ec2-user/anaconda3/envs/python3/lib/python3.6/site-packages (from awscli) (0.14)\n",
      "Requirement not upgraded as not directly required: colorama<=0.3.9,>=0.2.5 in /home/ec2-user/anaconda3/envs/python3/lib/python3.6/site-packages (from awscli) (0.3.9)\n",
      "Requirement not upgraded as not directly required: s3transfer<0.3.0,>=0.2.0 in /home/ec2-user/anaconda3/envs/python3/lib/python3.6/site-packages (from awscli) (0.2.0)\n",
      "Requirement not upgraded as not directly required: jmespath<1.0.0,>=0.7.1 in /home/ec2-user/anaconda3/envs/python3/lib/python3.6/site-packages (from botocore) (0.9.3)\n",
      "Requirement not upgraded as not directly required: python-dateutil<3.0.0,>=2.1; python_version >= \"2.7\" in /home/ec2-user/anaconda3/envs/python3/lib/python3.6/site-packages (from botocore) (2.7.3)\n",
      "Requirement not upgraded as not directly required: urllib3<1.25,>=1.20; python_version >= \"3.4\" in /home/ec2-user/anaconda3/envs/python3/lib/python3.6/site-packages (from botocore) (1.22)\n",
      "Requirement not upgraded as not directly required: pyasn1>=0.1.3 in /home/ec2-user/anaconda3/envs/python3/lib/python3.6/site-packages (from rsa<=3.5.0,>=3.1.2->awscli) (0.4.5)\n",
      "Requirement not upgraded as not directly required: six>=1.5 in /home/ec2-user/anaconda3/envs/python3/lib/python3.6/site-packages (from python-dateutil<3.0.0,>=2.1; python_version >= \"2.7\"->botocore) (1.11.0)\n",
      "\u001b[33mYou are using pip version 10.0.1, however version 19.0.3 is available.\n",
      "You should consider upgrading via the 'pip install --upgrade pip' command.\u001b[0m\n"
     ]
    }
   ],
   "source": [
    "!pip install awscli botocore boto3 --upgrade "
   ]
  },
  {
   "cell_type": "code",
   "execution_count": 11,
   "metadata": {},
   "outputs": [],
   "source": [
    "import pandas\n",
    "import boto3\n",
    "from sagemaker import get_execution_role\n",
    "from sklearn.utils import shuffle\n",
    "import sagemaker"
   ]
  },
  {
   "cell_type": "code",
   "execution_count": 3,
   "metadata": {},
   "outputs": [
    {
     "name": "stdout",
     "output_type": "stream",
     "text": [
      "--2019-03-18 06:07:08--  https://s3-us-west-2.amazonaws.com/personalize-cli-json-models/personalize.json\n",
      "Resolving s3-us-west-2.amazonaws.com (s3-us-west-2.amazonaws.com)... 52.218.216.232\n",
      "Connecting to s3-us-west-2.amazonaws.com (s3-us-west-2.amazonaws.com)|52.218.216.232|:443... connected.\n",
      "HTTP request sent, awaiting response... 304 Not Modified\n",
      "File ‘personalize.json’ not modified on server. Omitting download.\n",
      "\n",
      "--2019-03-18 06:07:09--  https://s3-us-west-2.amazonaws.com/personalize-cli-json-models/personalize-runtime.json\n",
      "Resolving s3-us-west-2.amazonaws.com (s3-us-west-2.amazonaws.com)... 52.218.216.232\n",
      "Connecting to s3-us-west-2.amazonaws.com (s3-us-west-2.amazonaws.com)|52.218.216.232|:443... connected.\n",
      "HTTP request sent, awaiting response... 304 Not Modified\n",
      "File ‘personalize-runtime.json’ not modified on server. Omitting download.\n",
      "\n"
     ]
    }
   ],
   "source": [
    "!wget -N https://s3-us-west-2.amazonaws.com/personalize-cli-json-models/personalize.json\n",
    "!wget -N https://s3-us-west-2.amazonaws.com/personalize-cli-json-models/personalize-runtime.json\n",
    "!aws configure add-model --service-model file://`pwd`/personalize.json --service-name personalize\n",
    "!aws configure add-model --service-model file://`pwd`/personalize-runtime.json --service-name personalize-runtime"
   ]
  },
  {
   "cell_type": "code",
   "execution_count": 5,
   "metadata": {},
   "outputs": [
    {
     "name": "stdout",
     "output_type": "stream",
     "text": [
      "--2019-03-18 06:08:38--  http://files.grouplens.org/datasets/movielens/ml-100k.zip\n",
      "Resolving files.grouplens.org (files.grouplens.org)... 128.101.34.235\n",
      "Connecting to files.grouplens.org (files.grouplens.org)|128.101.34.235|:80... connected.\n",
      "HTTP request sent, awaiting response... 304 Not Modified\n",
      "File ‘ml-100k.zip’ not modified on server. Omitting download.\n",
      "\n",
      "Archive:  ml-100k.zip\n",
      "  inflating: ml-100k/allbut.pl       \n",
      "  inflating: ml-100k/mku.sh          \n",
      "  inflating: ml-100k/README          \n",
      "  inflating: ml-100k/u.data          \n",
      "  inflating: ml-100k/u.genre         \n",
      "  inflating: ml-100k/u.info          \n",
      "  inflating: ml-100k/u.item          \n",
      "  inflating: ml-100k/u.occupation    \n",
      "  inflating: ml-100k/u.user          \n",
      "  inflating: ml-100k/u1.base         \n",
      "  inflating: ml-100k/u1.test         \n",
      "  inflating: ml-100k/u2.base         \n",
      "  inflating: ml-100k/u2.test         \n",
      "  inflating: ml-100k/u3.base         \n",
      "  inflating: ml-100k/u3.test         \n",
      "  inflating: ml-100k/u4.base         \n",
      "  inflating: ml-100k/u4.test         \n",
      "  inflating: ml-100k/u5.base         \n",
      "  inflating: ml-100k/u5.test         \n",
      "  inflating: ml-100k/ua.base         \n",
      "  inflating: ml-100k/ua.test         \n",
      "  inflating: ml-100k/ub.base         \n",
      "  inflating: ml-100k/ub.test         \n"
     ]
    },
    {
     "data": {
      "text/html": [
       "<div>\n",
       "<style scoped>\n",
       "    .dataframe tbody tr th:only-of-type {\n",
       "        vertical-align: middle;\n",
       "    }\n",
       "\n",
       "    .dataframe tbody tr th {\n",
       "        vertical-align: top;\n",
       "    }\n",
       "\n",
       "    .dataframe thead th {\n",
       "        text-align: right;\n",
       "    }\n",
       "</style>\n",
       "<table border=\"1\" class=\"dataframe\">\n",
       "  <thead>\n",
       "    <tr style=\"text-align: right;\">\n",
       "      <th></th>\n",
       "      <th>USER_ID</th>\n",
       "      <th>ITEM_ID</th>\n",
       "      <th>RATING</th>\n",
       "      <th>TIMESTAMP</th>\n",
       "    </tr>\n",
       "  </thead>\n",
       "  <tbody>\n",
       "    <tr>\n",
       "      <th>0</th>\n",
       "      <td>196</td>\n",
       "      <td>242</td>\n",
       "      <td>3</td>\n",
       "      <td>881250949</td>\n",
       "    </tr>\n",
       "    <tr>\n",
       "      <th>1</th>\n",
       "      <td>186</td>\n",
       "      <td>302</td>\n",
       "      <td>3</td>\n",
       "      <td>891717742</td>\n",
       "    </tr>\n",
       "    <tr>\n",
       "      <th>...</th>\n",
       "      <td>...</td>\n",
       "      <td>...</td>\n",
       "      <td>...</td>\n",
       "      <td>...</td>\n",
       "    </tr>\n",
       "    <tr>\n",
       "      <th>99998</th>\n",
       "      <td>13</td>\n",
       "      <td>225</td>\n",
       "      <td>2</td>\n",
       "      <td>882399156</td>\n",
       "    </tr>\n",
       "    <tr>\n",
       "      <th>99999</th>\n",
       "      <td>12</td>\n",
       "      <td>203</td>\n",
       "      <td>3</td>\n",
       "      <td>879959583</td>\n",
       "    </tr>\n",
       "  </tbody>\n",
       "</table>\n",
       "<p>100000 rows × 4 columns</p>\n",
       "</div>"
      ],
      "text/plain": [
       "       USER_ID  ITEM_ID  RATING  TIMESTAMP\n",
       "0          196      242       3  881250949\n",
       "1          186      302       3  891717742\n",
       "...        ...      ...     ...        ...\n",
       "99998       13      225       2  882399156\n",
       "99999       12      203       3  879959583\n",
       "\n",
       "[100000 rows x 4 columns]"
      ]
     },
     "execution_count": 5,
     "metadata": {},
     "output_type": "execute_result"
    }
   ],
   "source": [
    "!wget -N http://files.grouplens.org/datasets/movielens/ml-100k.zip\n",
    "!unzip -o ml-100k.zip"
   ]
  },
  {
   "cell_type": "markdown",
   "metadata": {},
   "source": [
    "## Schema\n",
    "\n",
    "```json\n",
    "{\"type\": \"record\", \n",
    "\"name\": \"Interactions\", \n",
    "\"namespace\": \"com.amazonaws.personalize.schema\",\n",
    "\"fields\":[\n",
    "    {\"name\": \"ITEM_ID\", \"type\": \"string\"},\n",
    "    {\"name\": \"USER_ID\", \"type\": \"string\"},\n",
    "    {\"name\": \"TIMESTAMP\", \"type\": \"long\"}\n",
    "],\n",
    "\"version\": \"1.0\"}\n",
    "```"
   ]
  },
  {
   "cell_type": "code",
   "execution_count": 18,
   "metadata": {},
   "outputs": [
    {
     "name": "stderr",
     "output_type": "stream",
     "text": [
      "INFO:sagemaker:Created S3 bucket: sagemaker-us-east-1-194989662172\n"
     ]
    },
    {
     "name": "stdout",
     "output_type": "stream",
     "text": [
      "IAM SERVICE ROLE arn:aws:iam::194989662172:role/service-role/AmazonSageMaker-ExecutionRole-20171218T174555\n"
     ]
    }
   ],
   "source": [
    "role = get_execution_role()\n",
    "print(\"IAM SERVICE ROLE\", role)\n",
    "sess = sagemaker.Session()\n",
    "bucket = sess.default_bucket()\n",
    "prefix = 'amazon-personalize'"
   ]
  },
  {
   "cell_type": "markdown",
   "metadata": {},
   "source": [
    "## Prepare and Upload Dataset"
   ]
  },
  {
   "cell_type": "code",
   "execution_count": 17,
   "metadata": {},
   "outputs": [
    {
     "name": "stdout",
     "output_type": "stream",
     "text": [
      "       USER_ID  ITEM_ID  RATING  TIMESTAMP\n",
      "0          196      242       3  881250949\n",
      "1          186      302       3  891717742\n",
      "...        ...      ...     ...        ...\n",
      "99998       13      225       2  882399156\n",
      "99999       12      203       3  879959583\n",
      "\n",
      "[100000 rows x 4 columns]\n"
     ]
    }
   ],
   "source": [
    "data = pandas.read_csv('./ml-100k/u.data', sep='\\t', names=['USER_ID', 'ITEM_ID', 'RATING', 'TIMESTAMP'])\n",
    "pandas.set_option('display.max_rows', 5)\n",
    "print(data)\n",
    "filename = \"processed.csv\"\n",
    "data = data[data['RATING'] > 3.6]                # keep only movies rated 3.6 and above\n",
    "data = data[['USER_ID', 'ITEM_ID', 'TIMESTAMP']] # select columns that match the columns in the schema below\n",
    "data.to_csv(filename, index=False)\n",
    "boto3.Session().resource('s3').Bucket(bucket).Object(prefix+'/'+filename).upload_file(filename)\n"
   ]
  },
  {
   "cell_type": "markdown",
   "metadata": {},
   "source": [
    "## Create Dataset Group"
   ]
  },
  {
   "cell_type": "code",
   "execution_count": 27,
   "metadata": {},
   "outputs": [
    {
     "name": "stdout",
     "output_type": "stream",
     "text": [
      "{\n",
      "    \"campaigns\": [\n",
      "        {\n",
      "            \"name\": \"DEMO-campaign\",\n",
      "            \"campaignArn\": \"arn:aws:personalize:us-east-1:194989662172:campaign/DEMO-campaign\",\n",
      "            \"status\": \"ACTIVE\",\n",
      "            \"creationDateTime\": 1552507038.214,\n",
      "            \"lastUpdatedDateTime\": 1552508841.248\n",
      "        },\n",
      "        {\n",
      "            \"name\": \"donnieMovies-campaign\",\n",
      "            \"campaignArn\": \"arn:aws:personalize:us-east-1:194989662172:campaign/donnieMovies-campaign\",\n",
      "            \"status\": \"ACTIVE\",\n",
      "            \"creationDateTime\": 1552902398.737,\n",
      "            \"lastUpdatedDateTime\": 1552902790.966\n",
      "        }\n",
      "    ]\n",
      "}\n",
      "{\n",
      "    \"campaign\": {\n",
      "        \"name\": \"donnieMovies-campaign\",\n",
      "        \"updateMode\": \"MANUAL\",\n",
      "        \"campaignArn\": \"arn:aws:personalize:us-east-1:194989662172:campaign/donnieMovies-campaign\",\n",
      "        \"solutionArn\": \"arn:aws:personalize:us-east-1:194989662172:solution/donnieMovie-solution\",\n",
      "        \"solutionVersionArn\": \"arn:aws:personalize:us-east-1:194989662172:solution/donnieMovie-solution/8af4b3fc\",\n",
      "        \"status\": \"ACTIVE\",\n",
      "        \"creationDateTime\": 1552902398.737,\n",
      "        \"lastUpdatedDateTime\": 1552902790.966\n",
      "    }\n",
      "}\n"
     ]
    }
   ],
   "source": [
    "\n",
    "!aws personalize list-campaigns\n",
    "!aws personalize describe-campaign --campaign-arn $CAMPAIGN_ARN"
   ]
  },
  {
   "cell_type": "code",
   "execution_count": 43,
   "metadata": {},
   "outputs": [
    {
     "name": "stdout",
     "output_type": "stream",
     "text": [
      "{\r\n",
      "    \"itemList\": [\r\n",
      "        {\r\n",
      "            \"itemId\": \"328\"\r\n",
      "        },\r\n",
      "        {\r\n",
      "            \"itemId\": \"650\"\r\n",
      "        },\r\n",
      "        {\r\n",
      "            \"itemId\": \"1395\"\r\n",
      "        },\r\n",
      "        {\r\n",
      "            \"itemId\": \"451\"\r\n",
      "        },\r\n",
      "        {\r\n",
      "            \"itemId\": \"1524\"\r\n",
      "        },\r\n",
      "        {\r\n",
      "            \"itemId\": \"391\"\r\n",
      "        },\r\n",
      "        {\r\n",
      "            \"itemId\": \"194\"\r\n",
      "        },\r\n",
      "        {\r\n",
      "            \"itemId\": \"395\"\r\n",
      "        },\r\n",
      "        {\r\n",
      "            \"itemId\": \"105\"\r\n",
      "        },\r\n",
      "        {\r\n",
      "            \"itemId\": \"884\"\r\n",
      "        },\r\n",
      "        {\r\n",
      "            \"itemId\": \"52\"\r\n",
      "        },\r\n",
      "        {\r\n",
      "            \"itemId\": \"723\"\r\n",
      "        },\r\n",
      "        {\r\n",
      "            \"itemId\": \"951\"\r\n",
      "        },\r\n",
      "        {\r\n",
      "            \"itemId\": \"1064\"\r\n",
      "        },\r\n",
      "        {\r\n",
      "            \"itemId\": \"608\"\r\n",
      "        },\r\n",
      "        {\r\n",
      "            \"itemId\": \"1128\"\r\n",
      "        },\r\n",
      "        {\r\n",
      "            \"itemId\": \"929\"\r\n",
      "        },\r\n",
      "        {\r\n",
      "            \"itemId\": \"367\"\r\n",
      "        },\r\n",
      "        {\r\n",
      "            \"itemId\": \"155\"\r\n",
      "        },\r\n",
      "        {\r\n",
      "            \"itemId\": \"346\"\r\n",
      "        },\r\n",
      "        {\r\n",
      "            \"itemId\": \"618\"\r\n",
      "        },\r\n",
      "        {\r\n",
      "            \"itemId\": \"303\"\r\n",
      "        },\r\n",
      "        {\r\n",
      "            \"itemId\": \"712\"\r\n",
      "        },\r\n",
      "        {\r\n",
      "            \"itemId\": \"1664\"\r\n",
      "        },\r\n",
      "        {\r\n",
      "            \"itemId\": \"869\"\r\n",
      "        }\r\n",
      "    ]\r\n",
      "}\r\n"
     ]
    }
   ],
   "source": [
    "CAMPAIGN_ARN=\"XXX\"\n",
    "USER_ID=\"13\"\n",
    "!aws personalize-runtime get-recommendations --campaign-arn $CAMPAIGN_ARN --user-id $USER_ID "
   ]
  },
  {
   "cell_type": "code",
   "execution_count": null,
   "metadata": {},
   "outputs": [],
   "source": []
  }
 ],
 "metadata": {
  "kernelspec": {
   "display_name": "conda_python3",
   "language": "python",
   "name": "conda_python3"
  },
  "language_info": {
   "codemirror_mode": {
    "name": "ipython",
    "version": 3
   },
   "file_extension": ".py",
   "mimetype": "text/x-python",
   "name": "python",
   "nbconvert_exporter": "python",
   "pygments_lexer": "ipython3",
   "version": "3.6.5"
  }
 },
 "nbformat": 4,
 "nbformat_minor": 2
}
